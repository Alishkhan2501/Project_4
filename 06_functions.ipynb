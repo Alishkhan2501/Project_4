{
  "nbformat": 4,
  "nbformat_minor": 0,
  "metadata": {
    "colab": {
      "provenance": [],
      "authorship_tag": "ABX9TyObUYvchvi9Tj2ZD64qtzN9",
      "include_colab_link": true
    },
    "kernelspec": {
      "name": "python3",
      "display_name": "Python 3"
    },
    "language_info": {
      "name": "python"
    }
  },
  "cells": [
    {
      "cell_type": "markdown",
      "metadata": {
        "id": "view-in-github",
        "colab_type": "text"
      },
      "source": [
        "<a href=\"https://colab.research.google.com/github/Alishkhan2501/Project_4/blob/main/06_functions.ipynb\" target=\"_parent\"><img src=\"https://colab.research.google.com/assets/colab-badge.svg\" alt=\"Open In Colab\"/></a>"
      ]
    },
    {
      "cell_type": "code",
      "execution_count": null,
      "metadata": {
        "id": "AqJft-V_Q1k_"
      },
      "outputs": [],
      "source": [
        "                                                                            # 00_averages\n",
        "\n",
        "\"\"\"Write a function that takes two numbers and finds the average between the two.\"\"\"\n",
        "\n",
        "\n",
        "def main():\n",
        "    # Prompt the user to enter the first number\n",
        "    num1 = float(input(\"Enter the first number: \"))\n",
        "    # Prompt the user to enter the second number\n",
        "    num2 = float(input(\"Enter the second number: \"))\n",
        "\n",
        "    # Compute the average of the two numbers\n",
        "    average = (num1 + num2) / 2\n",
        "\n",
        "    # Output the result\n",
        "    print(f\"The average of {num1} and {num2} is {average}.\")\n",
        "\n",
        "if __name__ == '__main__':\n",
        "    main()"
      ]
    },
    {
      "cell_type": "code",
      "source": [
        "                                                                          # 01_chaotic_counting\n",
        "\n",
        "\"\"\"Fill out the chaotic_counting() function, which prints the numbers from 1 to 10, but with a catch. We've written a done() function which returns True with likelihood DONE_LIKELIHOOD -- at each number, before printing the number, you should call done() and check if it returns True or not. If done() returns True, we're done counting, and you should use a return statement to end the chaotic_counting() function execution and resume execution of main(), which will print \"I'm done.\". We've written main() for you -- check it out! Notice that we'll only print \"I'm done\" from main() once chaotic_counting() is done with its execution.\n",
        "\n",
        "Here's a sample run of this program:\n",
        "\n",
        "I'm going to count until 10 or until I feel like stopping, whichever comes first. 1 2 3 I'm done.\"\"\"\n",
        "\n",
        "\n",
        "import random\n",
        "\n",
        "DONE_LIKELIHOOD = 0.3   # 30% chance that we stop counting early\n",
        "\n",
        "def done():\n",
        "    \"\"\"Simulate a random check for whether to stop counting.\"\"\"\n",
        "    return random.random() < DONE_LIKELIHOOD\n",
        "\n",
        "def chaotic_counting():\n",
        "    \"\"\"Count from 1 to 10, stopping early if done() returns True.\"\"\"\n",
        "    print(\"I'm going to count until 10 or until I feel like stopping, whichever comes first.\")\n",
        "    for i in range(1, 11):\n",
        "        if done():\n",
        "            return  # Stop counting and exit the function early\n",
        "        print(i, end=\" \")\n",
        "\n",
        "def main():\n",
        "    chaotic_counting()\n",
        "    print(\"I'm done.\")\n",
        "\n",
        "if __name__ == '__main__':\n",
        "    main()\n"
      ],
      "metadata": {
        "id": "iVkpEBC7RT1O"
      },
      "execution_count": null,
      "outputs": []
    },
    {
      "cell_type": "code",
      "source": [
        "                                                                                    # 02_count_even\n",
        "\n",
        " \"\"\"Fill out the function count_even(lst) which\n",
        "\n",
        "first populates a list by prompting the user for integers until they press enter (please use the prompt \"Enter an integer or press enter to stop: \"),\n",
        "\n",
        "and then prints the number of even numbers in the list.\n",
        "\n",
        "If you'd prefer to focus on the second task only, scroll down for our implementation of the first task!\"\"\"\n",
        "\n",
        "def count_even(lst):\n",
        "    \"\"\"Count and print the number of even numbers in the list.\"\"\"\n",
        "    even_count = sum(1 for number in lst if number % 2 == 0)\n",
        "    print(f\"The number of even numbers is: {even_count}\")\n",
        "\n",
        "def main():\n",
        "    # Initialize an empty list to store the user input\n",
        "    user_input = []\n",
        "\n",
        "    # Keep prompting the user to enter integers until they press enter without input\n",
        "    while True:\n",
        "        user_value = input(\"Enter an integer or press enter to stop: \")\n",
        "\n",
        "        # If the user presses enter without typing a number, stop the loop\n",
        "        if user_value == \"\":\n",
        "            break\n",
        "\n",
        "        # Try to convert the input to an integer and append to the list\n",
        "        try:\n",
        "            user_input.append(int(user_value))\n",
        "        except ValueError:\n",
        "            print(\"That's not a valid integer, please try again.\")\n",
        "\n",
        "    # Call count_even to print the number of even numbers in the list\n",
        "    count_even(user_input)\n",
        "\n",
        "if __name__ == '__main__':\n",
        "    main()"
      ],
      "metadata": {
        "id": "TMiT_5mORgZt"
      },
      "execution_count": null,
      "outputs": []
    },
    {
      "cell_type": "code",
      "source": [
        "                                                                                      # 04_double\n",
        "\n",
        "\"\"\"Fill out the double(num) function to return the result of multiplying num by 2. We've written a main() function for you which asks the user for a number, calls your code for double(num) , and prints the result.\n",
        "\n",
        "Here's a sample run of the program (user input in bold italics):\n",
        "\n",
        "Enter a number: 2 Double that is 4\"\"\"\n",
        "\n",
        "def double(num: int):\n",
        "    return num * 2\n",
        "\n",
        "def main():\n",
        "    num = int(input(\"Enter a number: \"))\n",
        "    num_times_2 = double(num)\n",
        "    print(\"Double that is\", num_times_2)\n",
        "\n",
        "if __name__ == '__main__':\n",
        "    main()\n",
        "\n",
        "\n"
      ],
      "metadata": {
        "id": "lN8YNMNeRygW"
      },
      "execution_count": null,
      "outputs": []
    },
    {
      "cell_type": "code",
      "source": [
        "                                                                                      # 05_get_name\n",
        "\n",
        "\"\"\"Fill out the get_name() function to return your name as a string! We've written a main() function for you which calls your function to retrieve your name and then prints it in a greeting.\n",
        "\n",
        "Here's a sample run of the program where the name we've decided to return is Sophia (the autograder expects the returned name to be Sophia):\n",
        "\n",
        "Howdy Sophia ! 🤠\"\"\"\n",
        "\n",
        "\n",
        "def get_name():\n",
        "    \"\"\"Return the name as a string.\"\"\"\n",
        "    return \"Sophia\"\n",
        "\n",
        "def main():\n",
        "    # Retrieve the name using get_name() and print a greeting\n",
        "    name = get_name()\n",
        "    print(f\"Howdy {name} ! 🤠\")\n",
        "\n",
        "if __name__ == '__main__':\n",
        "    main()"
      ],
      "metadata": {
        "id": "3bOb8PrHR-tu"
      },
      "execution_count": null,
      "outputs": []
    },
    {
      "cell_type": "code",
      "source": [
        "\n",
        "                                                                                        # 06_is_odd\n",
        "\n",
        "\"\"\"10 even 11 odd 12 even 13 odd 14 even 15 odd 16 even 17 odd 18 even 19 odd\"\"\"\n",
        "\n",
        "def main():\n",
        "    # Loop through numbers 10 to 19\n",
        "    for num in range(10, 20):\n",
        "        # Check if the number is even or odd\n",
        "        if num % 2 == 0:\n",
        "            print(f\"{num} even\")\n",
        "        else:\n",
        "            print(f\"{num} odd\")\n",
        "\n",
        "if __name__ == '__main__':\n",
        "    main()"
      ],
      "metadata": {
        "id": "vnzjvvJeSN5e"
      },
      "execution_count": null,
      "outputs": []
    },
    {
      "cell_type": "code",
      "source": [
        "                                                                                      # 07_print_divisor\n",
        "\n",
        "\"\"\"Write the helper function print_divisors(num), which takes in a number and prints all of its divisors (all the numbers from 1 to num inclusive that num can be cleanly divided by (there is no remainder to the division). Don't forget to call your function in main()!\n",
        "\n",
        "Here's a sample run (user input is in blue):\n",
        "\n",
        "Enter a number: 12 Here are the divisors of 12 1 2 3 4 6 12\"\"\"\n",
        "\n",
        "\n",
        "def print_divisors(num: int):\n",
        "    print(\"Here are the divisors of\", num)\n",
        "    for i in range(num):\n",
        "        curr_divisor = i + 1\n",
        "        if num % curr_divisor == 0:\n",
        "            print(curr_divisor)\n",
        "\n",
        "def main():\n",
        "    num = int(input(\"Enter a number: \"))\n",
        "    print_divisors(num)\n",
        "\n",
        "if __name__ == '__main__':\n",
        "    main()\n",
        "\n"
      ],
      "metadata": {
        "id": "_YailjsHSez1"
      },
      "execution_count": null,
      "outputs": []
    },
    {
      "cell_type": "code",
      "source": [
        "                                                                                      # 08_print_multiple\n",
        "\n",
        "\"\"\"Fill out print_multiple(message, repeats), which takes as parameters a string message to print, and an integer repeats number of times to print message. We've written the main() function for you, which prompts the user for a message and a number of repeats.\n",
        "\n",
        "Here's a sample run of the program (user input is in blue):\n",
        "\n",
        "Please type a message: Hello! Enter a number of times to repeat your message: 6 Hello! Hello! Hello! Hello! Hello! Hello!\"\"\"\n",
        "\n",
        "def print_multiple(message, repeats):\n",
        "    \"\"\"Print the message 'repeats' number of times.\"\"\"\n",
        "    for _ in range(repeats):\n",
        "        print(message)\n",
        "\n",
        "def main():\n",
        "    message = input(\"Please type a message: \")\n",
        "    repeats = int(input(\"Enter a number of times to repeat your message: \"))\n",
        "\n",
        "    print_multiple(message, repeats)\n",
        "\n",
        "if __name__ == '__main__':\n",
        "    main()"
      ],
      "metadata": {
        "id": "WLJvWp1nStyW"
      },
      "execution_count": null,
      "outputs": []
    },
    {
      "cell_type": "code",
      "source": [
        "                                                                                      # 09_sentence_generator\n",
        "\n",
        "\"\"\"Implement the helper function make_sentence(word, part_of_speech) which will take a string word and an integer part_of_speech as parameters and, depending on the part of speech, place the word into one of three sentence templates (or one from your imagination!):\n",
        "\n",
        "If part_of_speech is 0, we will assume the word is a noun and use the template: \"I am excited to add this ____ to my vast collection of them!\"\n",
        "\n",
        "If part_of_speech is 1, we will assume the word is a verb use the template: \"It's so nice outside today it makes me want to ____!\"\n",
        "\n",
        "If part_of_speech is 2, we will assume the word is an adjective and use the template: \"Looking out my window, the sky is big and ____!\" make_sentence(word, part_of_speech) should not return anything, just print the correct sentence with the word filled in the blank.\n",
        "\n",
        "Here's a sample run of the program (user input is in blue):\n",
        "\n",
        "Please type a noun, verb, or adjective: groovy Is this a noun, verb, or adjective? Type 0 for noun, 1 for verb, 2 for adjective: 2 Looking out my window, the sky is big and groovy!\"\"\"\n",
        "\n",
        "\n",
        "def make_sentence(word, part_of_speech):\n",
        "    \"\"\"Generate a sentence based on the word and its part of speech.\"\"\"\n",
        "    if part_of_speech == 0:\n",
        "        # Noun sentence template\n",
        "        print(f\"I am excited to add this {word} to my vast collection of them!\")\n",
        "    elif part_of_speech == 1:\n",
        "        # Verb sentence template\n",
        "        print(f\"It's so nice outside today it makes me want to {word}!\")\n",
        "    elif part_of_speech == 2:\n",
        "        # Adjective sentence template\n",
        "        print(f\"Looking out my window, the sky is big and {word}!\")\n",
        "\n",
        "def main():\n",
        "    # Ask the user for a word and part of speech type\n",
        "    word = input(\"Please type a noun, verb, or adjective: \")\n",
        "    part_of_speech = int(input(\"Is this a noun, verb, or adjective? Type 0 for noun, 1 for verb, 2 for adjective: \"))\n",
        "\n",
        "    # Call the make_sentence function with the user's input\n",
        "    make_sentence(word, part_of_speech)\n",
        "\n",
        "if __name__ == '__main__':\n",
        "    main()\n"
      ],
      "metadata": {
        "id": "hWVh105iTDA2"
      },
      "execution_count": null,
      "outputs": []
    },
    {
      "cell_type": "code",
      "source": [
        "                                                                                #  10_print_ones_digit\n",
        "\n",
        "  \"\"\"Write a function called print_ones_digit , which takes as a parameter an integer num and prints its ones digit. The modulo (remainder) operator, %, should be helpful to you here. Call your function from main()!\n",
        "\n",
        "Here's a sample run (user input is in blue):\n",
        "\n",
        "Enter a number: 42 The ones digit is 2\"\"\"\n",
        "\n",
        "def print_ones_digit(num):\n",
        "    print(\"The ones digit is\", num % 10)\n",
        "\n",
        "def main():\n",
        "    num = int(input(\"Enter a number: \"))\n",
        "    print_ones_digit(num)\n",
        "\n",
        "if __name__ == '__main__':\n",
        "    main()\n",
        "\n"
      ],
      "metadata": {
        "id": "2IqgGkTATSSd"
      },
      "execution_count": null,
      "outputs": []
    }
  ]
}