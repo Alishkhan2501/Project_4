{
  "nbformat": 4,
  "nbformat_minor": 0,
  "metadata": {
    "colab": {
      "provenance": [],
      "authorship_tag": "ABX9TyNxC7e0njSh5JlvS5v5uhCK",
      "include_colab_link": true
    },
    "kernelspec": {
      "name": "python3",
      "display_name": "Python 3"
    },
    "language_info": {
      "name": "python"
    }
  },
  "cells": [
    {
      "cell_type": "markdown",
      "metadata": {
        "id": "view-in-github",
        "colab_type": "text"
      },
      "source": [
        "<a href=\"https://colab.research.google.com/github/Alishkhan2501/Project_4/blob/main/05_loops_control_flow.ipynb\" target=\"_parent\"><img src=\"https://colab.research.google.com/assets/colab-badge.svg\" alt=\"Open In Colab\"/></a>"
      ]
    },
    {
      "cell_type": "code",
      "execution_count": null,
      "metadata": {
        "id": "ku006Y_aPDzk"
      },
      "outputs": [],
      "source": [
        "                                                                        #  00_guess_my_number\n",
        "\n",
        "\"\"\"Guess My Number\n",
        "\n",
        "I am thinking of a number between 0 and 99... Enter a guess: 50 Your guess is too high\n",
        "\n",
        "Enter a new number: 25 Your guess is too low\n",
        "\n",
        "Enter a new number: 40 Your guess is too low\n",
        "\n",
        "Enter a new number: 45 Your guess is too low\n",
        "\n",
        "Enter a new number: 48 Congrats! The number was: 48\"\"\"\n",
        "\n",
        "import random\n",
        "\n",
        "def main():\n",
        "    # Generate a random secret number between 0 and 99\n",
        "    number_to_guess = random.randint(1, 99)\n",
        "\n",
        "    print(\"I am thinking of a number between 0 and 99...\")\n",
        "\n",
        "    # Prompt the user for their first guess\n",
        "    guess = int(input(\"Enter a guess: \"))\n",
        "\n",
        "    while guess != number_to_guess:  # Loop until the guess matches the secret number\n",
        "         # Check if the guess is too low\n",
        "        if guess < number_to_guess:\n",
        "            print(\"Your guess is too low.\")\n",
        "        # Check if the guess is too high\n",
        "        else:\n",
        "            print(\"Your guess is too high.\")\n",
        "            print()  # Print an empty line to separate guesses for better readability\n",
        "        # Prompt the user to enter a new guess\n",
        "        guess = int(input(\"Enter a new guess: \"))\n",
        "\n",
        "    # Congratulate the user once they guess the correct number\n",
        "    print(f\"Congrats! The number was: {number_to_guess}\")\n",
        "\n",
        "if __name__ == '__main__':\n",
        "    main()"
      ]
    },
    {
      "cell_type": "code",
      "source": [
        "                                                                      # 01_fibonacci\n",
        "\n",
        " \"\"\"Write a program to print terms in the Fibonacci sequence up to a maximum value.\n",
        "\n",
        "In the 13th century, the Italian mathematician Leonardo Fibonacci, as a way to explain the geometric growth of a population of rabbits, devised a mathematical sequence that now bears his name. The first two terms in this sequence, Fib(0) and Fib(1), are 0 and 1, and every subsequent term is the sum of the preceding two. Thus, the first several terms in the Fibonacci sequence look like this:\n",
        "\n",
        "Fib(0) = 0 Fib(1) = 1 Fib(2) = 1 = 0 + 1 Fib(3) = 2 = 1 + 1 Fib(4) = 3 = 1 + 2 Fib(5) = 5 = 2 + 3\n",
        "\n",
        "Write a program that displays the terms in the Fibonacci sequence, starting with Fib(0) and continuing as long as the terms are less than 10,000 (you should store this value as a constant!). Thus, your program should produce the following sample run:\n",
        "\n",
        "0 1 1 2 3 5 8 13 21 34 55 89 144 233 377 610 987 1597 2584 4181 6765\"\"\"\n",
        "\n",
        "\n",
        "def main():\n",
        "    MAX_VALUE = 10000\n",
        "    curr_term, next_term = 0, 1\n",
        "\n",
        "    while curr_term < MAX_VALUE:\n",
        "        print(curr_term, end=' ')\n",
        "        curr_term, next_term = next_term, curr_term + next_term\n",
        "\n",
        "    print()\n",
        "\n",
        "if __name__ == '__main__':\n",
        "    main()\n",
        "\n"
      ],
      "metadata": {
        "id": "ua4Q8pMpPWzn"
      },
      "execution_count": null,
      "outputs": []
    },
    {
      "cell_type": "code",
      "source": [
        "                                                                  # 02_print_events\n",
        "\n",
        "\"\"\"  Write a program that prints the first 20 even numbers. There are several correct approaches, but they all use a loop of some sort. Do no write twenty print statements\n",
        "\n",
        "The first even number is 0:\n",
        "\n",
        "0 2 4 6 8 10 12 14 16 18 20 22 24 26 28 30 32 34 36 38\"\"\"\n",
        "\n",
        "def main():\n",
        "    # Loop to print the first 20 even numbers\n",
        "    for i in range(20):\n",
        "        print(i * 2)  # Multiply i by 2 to get the even numbers, and print them in a single line\n",
        "\n",
        "if __name__ == '__main__':\n",
        "    main()\n",
        "\n",
        "\n"
      ],
      "metadata": {
        "id": "DZlhWGQwPlN_"
      },
      "execution_count": null,
      "outputs": []
    },
    {
      "cell_type": "code",
      "source": [
        "                                                                 # 03_wholesome_machine\n",
        "\n",
        " \"\"\"Write a program which prompts the user to type an affirmation of your choice (we'll use \"I am capable of doing anything I put my mind to.\") until they type it correctly. Sometimes, especially in the midst of such uncertain times, we just need to be reminded that we are resilient, capable, and strong; this little Python program may be able to help!\n",
        "\n",
        "Here's a sample run of the program (user input is in blue):\n",
        "\n",
        "Please type the following affirmation: I am capable of doing anything I put my mind to. Hmmm That was not the affirmation. Please type the following affirmation: I am capable of doing anything I put my mind to. I am capable of doing anything I put my mind to. That's right! :)\n",
        "\n",
        "Note that you can call input() with no prompt and it will still wait for a user to type something!\"\"\"\n",
        "\n",
        "def main():\n",
        "    AFFIRMATION = \"I am capable of doing anything I put my mind to.\"\n",
        "\n",
        "    print(\"Please repeat the following affirmation exactly as it is:\")\n",
        "    print( AFFIRMATION)\n",
        "\n",
        "    while True:\n",
        "        user_input = input(\"> \")  # Get user input\n",
        "\n",
        "        if user_input ==  AFFIRMATION:\n",
        "            print(\"That's right! \")\n",
        "            break\n",
        "        else:\n",
        "            print(\"\\nOops! That was not the correct affirmation. Try again.\")\n",
        "            print(\"Please repeat the affirmation again:\")\n",
        "            print( AFFIRMATION)\n",
        "\n",
        "# Run the main function\n",
        "if __name__ == \"__main__\":\n",
        "    main()"
      ],
      "metadata": {
        "id": "7gjN_gIBP_Yv"
      },
      "execution_count": null,
      "outputs": []
    },
    {
      "cell_type": "code",
      "source": [
        "                                                                               # 04_liftoff\n",
        "\n",
        " \"\"\"\"Write a program that prints out the calls for a spaceship that is about to launch. Countdown from 10 to 1 and then output Liftoff!\n",
        "\n",
        "Here's a sample run of the program:\n",
        "\n",
        "10 9 8 7 6 5 4 3 2 1 Liftoff!\n",
        "\n",
        "There are many ways to solve this problem. One approach is to use a for loop, and to use the for loop variable i. Recall that i will keep track of how many times the for loop has completed executing its body. As an example this code:\n",
        "\n",
        "for i in range(10): print(i)\n",
        "\n",
        "Will print out the values 0, 1, 2, 3, 4, 5, 6, 7, 8, 9. The values printed in liftoff are 10 minus the number of times the for loop has completed.\"\"\"\n",
        "\n",
        "import time\n",
        "\n",
        "def countdown_timer():\n",
        "    print(\"Preparing for launch...\")\n",
        "\n",
        "    for i in range(10, 0, -1):  # Countdown from 10 to 1\n",
        "        print(i)\n",
        "        time.sleep(1)  # Adding a 1-second delay for a real countdown effect\n",
        "\n",
        "    print(\"Liftoff!  The mission has started! \")\n",
        "\n",
        "# Run the countdown\n",
        "if __name__ == \"__main__\":\n",
        "    countdown_timer()"
      ],
      "metadata": {
        "id": "dDoT6l5tQOA-"
      },
      "execution_count": null,
      "outputs": []
    },
    {
      "cell_type": "code",
      "source": [
        "                                                                                  # 05_double_it\n",
        "\n",
        "\"\"\"Write a program that asks a user to enter a number. Your program will then double that number and print out the result. It will repeat that process until the value is 100 or greater.\n",
        "\n",
        "For example if the user enters the number 2 you would then print:\n",
        "\n",
        "4 8 16 32 64 128\n",
        "\n",
        "Note that:\n",
        "\n",
        "2 doubled is 4\n",
        "\n",
        "4 doubled is 8\n",
        "\n",
        "8 doubled is 16\n",
        "\n",
        "and so on.\n",
        "\n",
        "We stop at 128 because that value is greater than 100.\n",
        "\n",
        "Maintain the current number in a variable named curr_value. When you double the number, you should be updating curr_value. Recall that you can double the value of curr_value using a line like:\n",
        "\n",
        "curr_value = curr_value * 2\n",
        "\n",
        "This program should have a while loop and the while loop condition should test if curr_value is less than 100. Thus, your program will have the line:\n",
        "\n",
        "while curr_value < 100:\"\"\"\n",
        "\n",
        "def main():\n",
        "\n",
        "    curr_value = int(input(\"Enter a number: \"))\n",
        "    print(curr_value, end=\" \")\n",
        "    while curr_value < 100:\n",
        "        curr_value = curr_value * 2\n",
        "        print(curr_value, end=\" \")\n",
        "\n",
        "if __name__ == \"__main__\":\n",
        "    main()\n"
      ],
      "metadata": {
        "id": "Iebh7LGxQbHP"
      },
      "execution_count": null,
      "outputs": []
    }
  ]
}